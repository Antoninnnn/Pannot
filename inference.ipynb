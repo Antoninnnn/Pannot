{
 "cells": [
  {
   "cell_type": "code",
   "execution_count": 1,
   "id": "d25fa69f-5dc1-45a2-a410-f7e5c4813012",
   "metadata": {},
   "outputs": [],
   "source": [
    "!ml Anaconda3\n",
    "!source activate pannot-dev\n"
   ]
  },
  {
   "cell_type": "code",
   "execution_count": 2,
   "id": "0fb01884-7056-4d7f-ae0d-29d82e2ee490",
   "metadata": {},
   "outputs": [
    {
     "ename": "ModuleNotFoundError",
     "evalue": "No module named 'transformers'",
     "output_type": "error",
     "traceback": [
      "\u001b[0;31m---------------------------------------------------------------------------\u001b[0m",
      "\u001b[0;31mModuleNotFoundError\u001b[0m                       Traceback (most recent call last)",
      "Cell \u001b[0;32mIn[2], line 1\u001b[0m\n\u001b[0;32m----> 1\u001b[0m \u001b[38;5;28;01mfrom\u001b[39;00m \u001b[38;5;21;01mtransformers\u001b[39;00m \u001b[38;5;28;01mimport\u001b[39;00m AutoTokenizer\n\u001b[1;32m      2\u001b[0m \u001b[38;5;28;01mfrom\u001b[39;00m \u001b[38;5;21;01mpannot\u001b[39;00m\u001b[38;5;21;01m.\u001b[39;00m\u001b[38;5;21;01mmodel\u001b[39;00m\u001b[38;5;21;01m.\u001b[39;00m\u001b[38;5;21;01mpannot_llama\u001b[39;00m \u001b[38;5;28;01mimport\u001b[39;00m PannotLlamaForCausalLM\n\u001b[1;32m      3\u001b[0m \u001b[38;5;28;01mimport\u001b[39;00m \u001b[38;5;21;01mtorch\u001b[39;00m\n",
      "\u001b[0;31mModuleNotFoundError\u001b[0m: No module named 'transformers'"
     ]
    }
   ],
   "source": [
    "from transformers import AutoTokenizer\n",
    "from pannot.model.language_model.pannot_llama import PannotLlamaForCausalLM\n",
    "import torch\n",
    "\n"
   ]
  },
  {
   "cell_type": "code",
   "execution_count": null,
   "id": "2eea7911-c5b8-41ba-bfe7-0adfa2f9a93f",
   "metadata": {},
   "outputs": [],
   "source": [
    "# Load base LLM\n",
    "model = PannotLlamaForCausalLM.from_pretrained(\n",
    "    \"/scratch/user/yining_yang/TAMU/PhD/Pannot/local_pretrained_llm/Meta-Llama-3.1-8B-Instruct\",\n",
    "    torch_dtype=torch.bfloat16,\n",
    "    device_map=\"auto\",  # automatic single-device or CPU+GPU placement\n",
    ")\n",
    "\n",
    "# Load adapter weights\n",
    "adapter_weights = torch.load(\"TAMU/PhD/Pannot/checkpoints/pannot-Meta-Llama-3.1-8B-Instruct-pretrain-v00/mm_projector.bin\", map_location=\"cpu\")\n",
    "model.load_state_dict(adapter_weights, strict=False)\n",
    "\n",
    "# Tokenizer\n",
    "tokenizer = AutoTokenizer.from_pretrained(\"/scratch/user/yining_yang/TAMU/PhD/Pannot/local_pretrained_llm/Meta-Llama-3.1-8B-Instruct\")\n",
    "\n",
    "# Input prompt\n",
    "prompt = \"Describe the function of this protein.\"\n",
    "input_ids = tokenizer(prompt, return_tensors=\"pt\").input_ids.to(model.device)\n",
    "\n",
    "print(\"Has sequence encoder:\", hasattr(model, \"seq_tower\"))\n",
    "print(\"Has structure encoder:\", hasattr(model, \"struc_tower\"))\n",
    "\n",
    "# Optional: check inner modules\n",
    "print(\"Seq tower type:\", type(model.seq_tower))\n",
    "print(\"Struc tower type:\", type(model.struc_tower))\n",
    "\n",
    "\n",
    "# Run generation\n",
    "outputs = model.generate(\n",
    "    input_ids=input_ids,\n",
    "    max_new_tokens=256,\n",
    "    do_sample=False,\n",
    "    temperature=0.7\n",
    ")\n",
    "\n",
    "print(tokenizer.decode(outputs[0], skip_special_tokens=True))"
   ]
  }
 ],
 "metadata": {
  "kernelspec": {
   "display_name": "Python (esm3env)",
   "language": "python",
   "name": "esm3env"
  },
  "language_info": {
   "codemirror_mode": {
    "name": "ipython",
    "version": 3
   },
   "file_extension": ".py",
   "mimetype": "text/x-python",
   "name": "python",
   "nbconvert_exporter": "python",
   "pygments_lexer": "ipython3",
   "version": "3.11.7"
  }
 },
 "nbformat": 4,
 "nbformat_minor": 5
}
